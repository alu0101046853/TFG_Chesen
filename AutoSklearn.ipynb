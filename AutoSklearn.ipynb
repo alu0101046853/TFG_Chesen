{
  "nbformat": 4,
  "nbformat_minor": 0,
  "metadata": {
    "colab": {
      "name": "AutoSklearn.ipynb",
      "provenance": [],
      "collapsed_sections": [],
      "authorship_tag": "ABX9TyMtkp5siZjPR31KKGxI0n3X",
      "include_colab_link": true
    },
    "kernelspec": {
      "name": "python3",
      "display_name": "Python 3"
    },
    "language_info": {
      "name": "python"
    }
  },
  "cells": [
    {
      "cell_type": "markdown",
      "metadata": {
        "id": "view-in-github",
        "colab_type": "text"
      },
      "source": [
        "<a href=\"https://colab.research.google.com/github/alu0101046853/TFG_Chesen/blob/main/AutoSklearn.ipynb\" target=\"_parent\"><img src=\"https://colab.research.google.com/assets/colab-badge.svg\" alt=\"Open In Colab\"/></a>"
      ]
    },
    {
      "cell_type": "code",
      "metadata": {
        "id": "4dszrBJkgUiE"
      },
      "source": [
        "!pip install --upgrade pip\n",
        "!pip install -U scipy\n",
        "!pip install -U scikit-learn\n",
        "!pip install auto-sklearn"
      ],
      "execution_count": null,
      "outputs": []
    },
    {
      "cell_type": "code",
      "metadata": {
        "id": "vXUAu7vqhO8a"
      },
      "source": [
        "import autosklearn.classification\n",
        "import sklearn.model_selection\n",
        "import sklearn.datasets\n",
        "import sklearn.metrics\n",
        "if __name__ == \"__main__\":\n",
        "    X, y = sklearn.datasets.load_digits(return_X_y=True)\n",
        "    X_train, X_test, y_train, y_test = \\\n",
        "            sklearn.model_selection.train_test_split(X, y, random_state=1)\n",
        "    automl = autosklearn.classification.AutoSklearnClassifier()\n",
        "    automl.fit(X_train, y_train)\n",
        "    print(automl.sprint_statistics())\n",
        "    y_hat = automl.predict(X_test)\n",
        "    print(\"Accuracy score\", sklearn.metrics.accuracy_score(y_test, y_hat))"
      ],
      "execution_count": null,
      "outputs": []
    },
    {
      "cell_type": "code",
      "metadata": {
        "id": "8JqeeJLzYS7n"
      },
      "source": [
        "import autosklearn.classification\n",
        "from sklearn.datasets import load_iris\n",
        "from sklearn.model_selection import train_test_split\n",
        "import sklearn.metrics\n",
        "import numpy as np\n",
        "\n",
        "iris = load_iris()\n",
        "X_train, X_test, y_train, y_test = train_test_split(iris.data.astype(np.float64),iris.target.astype(np.float64), train_size=0.75, test_size=0.25, random_state=42)\n",
        "modelo = autosklearn.classification.AutoSklearnClassifier(time_left_for_this_task=1*60, per_run_time_limit=10, n_jobs=1)\n",
        "modelo.fit(X_train, y_train)\n",
        "print(modelo.sprint_statistics())\n",
        "y_hat = modelo.predict(X_test)\n",
        "print(\"Accuracy score\", sklearn.metrics.accuracy_score(y_test, y_hat))"
      ],
      "execution_count": null,
      "outputs": []
    }
  ]
}