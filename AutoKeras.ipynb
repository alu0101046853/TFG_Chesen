{
  "nbformat": 4,
  "nbformat_minor": 0,
  "metadata": {
    "colab": {
      "name": "AutoKeras.ipynb",
      "provenance": [],
      "collapsed_sections": [],
      "include_colab_link": true
    },
    "kernelspec": {
      "name": "python3",
      "display_name": "Python 3"
    },
    "language_info": {
      "name": "python"
    }
  },
  "cells": [
    {
      "cell_type": "markdown",
      "metadata": {
        "id": "view-in-github",
        "colab_type": "text"
      },
      "source": [
        "<a href=\"https://colab.research.google.com/github/alu0101046853/TFG_Chesen/blob/main/AutoKeras.ipynb\" target=\"_parent\"><img src=\"https://colab.research.google.com/assets/colab-badge.svg\" alt=\"Open In Colab\"/></a>"
      ]
    },
    {
      "cell_type": "code",
      "metadata": {
        "id": "e-9BoaAAd0lE"
      },
      "source": [
        "!pip install git+https://github.com/keras-team/keras-tuner.git\n",
        "!pip install autokeras"
      ],
      "execution_count": null,
      "outputs": []
    },
    {
      "cell_type": "code",
      "metadata": {
        "id": "0FiF3UbTeiI-"
      },
      "source": [
        "import numpy as np\n",
        "import tensorflow as tf\n",
        "from tensorflow.keras.datasets import mnist\n",
        "import matplotlib.pyplot as plt\n",
        "import autokeras as ak"
      ],
      "execution_count": null,
      "outputs": []
    },
    {
      "cell_type": "code",
      "metadata": {
        "id": "EIBlgTAaevQ3"
      },
      "source": [
        "(x_train, y_train), (x_test, y_test) = mnist.load_data()\n",
        "num = 4\n",
        "images = x_train[:num]\n",
        "labels = y_train[:num]\n",
        "num_row = 2\n",
        "num_col = 2\n",
        "fig, axes = plt.subplots(num_row, num_col, figsize=(1.5*num_col,2*num_row))\n",
        "for i in range(num):\n",
        "    ax = axes[i//num_col, i%num_col]\n",
        "    ax.imshow(images[i], cmap='gray')\n",
        "    ax.set_title('Label: {}'.format(labels[i]))\n",
        "plt.tight_layout()\n",
        "plt.show()"
      ],
      "execution_count": null,
      "outputs": []
    },
    {
      "cell_type": "code",
      "metadata": {
        "id": "blEOAowge2FL"
      },
      "source": [
        "clf = ak.ImageClassifier(overwrite=True, max_trials=1)\n",
        "clf.fit(x_train, y_train, epochs=10)\n",
        "\n",
        "predicted_y = clf.predict(x_test)\n",
        "print(predicted_y)\n",
        "print(clf.evaluate(x_test, y_test))\n",
        "\n",
        "modelo_final = clf.export_model()\n",
        "modelo_final.summary()\n",
        "tf.keras.utils.plot_model(modelo_final,show_shapes=True)"
      ],
      "execution_count": null,
      "outputs": []
    },
    {
      "cell_type": "code",
      "metadata": {
        "id": "IE1yllAiMpWM"
      },
      "source": [
        "from sklearn.datasets import load_iris\n",
        "from sklearn.model_selection import train_test_split\n",
        "import pandas as pd\n",
        "\n",
        "data = load_iris()\n",
        "X, y = data['data'], pd.get_dummies(data['target']).values\n",
        "X_train, X_test, y_train, y_test = train_test_split(X, y, test_size=0.2)\n",
        "\n",
        "model = ak.StructuredDataClassifier(overwrite=True, max_trials=50)\n",
        "model.fit(X_train, y_train)\n",
        "\n",
        "print(\"TEST\")\n",
        "loss, acc = model.evaluate(X_test, y_test)\n",
        "print(\"Accuracy: \", acc)\n",
        "y_predictions = model.predict(X_test)\n",
        "modelo_final = model.export_model()\n",
        "modelo_final.summary()\n",
        "tf.keras.utils.plot_model(modelo_final,show_shapes=True)"
      ],
      "execution_count": null,
      "outputs": []
    },
    {
      "cell_type": "code",
      "metadata": {
        "id": "HXuq0mBRF2zS"
      },
      "source": [
        "from sklearn.metrics import  confusion_matrix\n",
        "from mlxtend.plotting import plot_confusion_matrix\n",
        "matrix = confusion_matrix(y_test.argmax(axis=1), y_predictions.argmax(axis=1))\n",
        "plot_confusion_matrix(conf_mat=matrix, figsize=(3,3), show_normed=False)\n",
        "plt.tight_layout()"
      ],
      "execution_count": null,
      "outputs": []
    }
  ]
}