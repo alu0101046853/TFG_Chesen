{
  "nbformat": 4,
  "nbformat_minor": 0,
  "metadata": {
    "colab": {
      "name": "TPOT.ipynb",
      "provenance": [],
      "authorship_tag": "ABX9TyPdf2lsFLPwMq+kwBOJ2Hc7",
      "include_colab_link": true
    },
    "kernelspec": {
      "name": "python3",
      "display_name": "Python 3"
    },
    "language_info": {
      "name": "python"
    }
  },
  "cells": [
    {
      "cell_type": "markdown",
      "metadata": {
        "id": "view-in-github",
        "colab_type": "text"
      },
      "source": [
        "<a href=\"https://colab.research.google.com/github/alu0101046853/TFG_Chesen/blob/main/TPOT.ipynb\" target=\"_parent\"><img src=\"https://colab.research.google.com/assets/colab-badge.svg\" alt=\"Open In Colab\"/></a>"
      ]
    },
    {
      "cell_type": "code",
      "metadata": {
        "id": "GkicEscPkr1s"
      },
      "source": [
        "!pip install deap update_checker tqdm stopit xgboost\n",
        "!pip install dask[delayed] dask[dataframe] dask-ml fsspec>=0.3.3 distributed>=2.10.0\n",
        "!pip install scikit-mdr skrebate\n",
        "!pip install tpot"
      ],
      "execution_count": null,
      "outputs": []
    },
    {
      "cell_type": "code",
      "metadata": {
        "id": "GYqXZXWZum5_"
      },
      "source": [
        "from tpot import TPOTClassifier\n",
        "from sklearn.model_selection import train_test_split\n",
        "from sklearn.datasets import load_digits\n",
        "digits = load_digits()\n",
        "print(digits.data.shape)\n",
        "import matplotlib.pyplot as plt \n",
        "plt.gray() \n",
        "plt.matshow(digits.images[0]) \n",
        "plt.show() "
      ],
      "execution_count": null,
      "outputs": []
    },
    {
      "cell_type": "code",
      "metadata": {
        "id": "rRcTE8uXlUBc"
      },
      "source": [
        "digits = load_digits()\n",
        "X_train, X_test, y_train, y_test = train_test_split(digits.data, digits.target,train_size=0.75, test_size=0.25)\n",
        "\n",
        "pipeline_optimizer = TPOTClassifier(generations=5, population_size=20,random_state=42, verbosity=2)\n",
        "pipeline_optimizer.fit(X_train, y_train)\n",
        "print(pipeline_optimizer.fitted_pipeline_)\n",
        "\n",
        "print(\"TEST:\")\n",
        "print(pipeline_optimizer.score(X_test, y_test))\n",
        "pipeline_optimizer.export('tpot_exported_pipeline.py')"
      ],
      "execution_count": null,
      "outputs": []
    },
    {
      "cell_type": "code",
      "metadata": {
        "id": "cJbzkMmpXBTB"
      },
      "source": [
        "from sklearn.datasets import load_iris\n",
        "import numpy as np\n",
        "\n",
        "iris = load_iris()\n",
        "X_train, X_test, y_train, y_test = train_test_split(iris.data.astype(np.float64),iris.target.astype(np.float64), train_size=0.75, test_size=0.25, random_state=42)\n",
        "\n",
        "tpot = TPOTClassifier(generations=20, population_size=50, verbosity=2, random_state=42)\n",
        "tpot.fit(X_train, y_train)\n",
        "print(tpot.fitted_pipeline_)\n",
        "\n",
        "print(\"TEST:\")\n",
        "print(tpot.score(X_test, y_test))\n",
        "tpot.export('tpot_iris_pipeline.py')"
      ],
      "execution_count": null,
      "outputs": []
    },
    {
      "cell_type": "code",
      "metadata": {
        "id": "qoiZ7L05IsrM"
      },
      "source": [
        "from mlxtend.plotting import plot_confusion_matrix\n",
        "from sklearn.metrics import confusion_matrix\n",
        "\n",
        "ypred = tpot.predict(X_test)\n",
        "matriz = confusion_matrix(y_test,ypred)\n",
        "\n",
        "plot_confusion_matrix(conf_mat=matriz, figsize=(3,3), show_normed=False)\n",
        "plt.tight_layout()"
      ],
      "execution_count": null,
      "outputs": []
    }
  ]
}